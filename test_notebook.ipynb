{
 "cells": [
  {
   "cell_type": "code",
   "execution_count": 1,
   "id": "b4c3b138",
   "metadata": {},
   "outputs": [],
   "source": [
    "from collections import defaultdict\n",
    "from database import *"
   ]
  },
  {
   "cell_type": "code",
   "execution_count": 2,
   "id": "3b80e7a8",
   "metadata": {},
   "outputs": [],
   "source": [
    "dc1 = defaultdict(lambda: defaultdict(int))\n",
    "dc2 = defaultdict(lambda: defaultdict(int))\n",
    "cset = set()"
   ]
  },
  {
   "cell_type": "code",
   "execution_count": 3,
   "id": "aff48559",
   "metadata": {},
   "outputs": [],
   "source": [
    "for path in mongo_pathway_db[\"pathway\"].find():\n",
    "    entry_map = dict()\n",
    "    for entry in path[\"entries\"]:\n",
    "        entry[\"name\"] = entry[\"name\"].split()\n",
    "        entry_map[entry[\"id\"]] = entry\n",
    "    for rel in path[\"relations\"]:\n",
    "        entry1 = entry_map[rel[\"entry1\"]]\n",
    "        entry2 = entry_map[rel[\"entry2\"]]\n",
    "\n",
    "        dc1[rel[\"link\"]][entry1[\"type\"]] += 1\n",
    "        dc2[rel[\"link\"]][entry2[\"type\"]] += 1\n",
    "        if (\n",
    "            entry2[\"type\"] == \"compound\"\n",
    "            and rel[\"link\"] == \"PPrel\"\n",
    "            and entry1[\"type\"] == \"compound\"\n",
    "        ):\n",
    "            cset.add(path[\"kid\"])"
   ]
  },
  {
   "cell_type": "code",
   "execution_count": null,
   "id": "a3c90e01",
   "metadata": {},
   "outputs": [],
   "source": []
  }
 ],
 "metadata": {
  "kernelspec": {
   "display_name": "Python 3.9.12 ('omics')",
   "language": "python",
   "name": "python3"
  },
  "language_info": {
   "codemirror_mode": {
    "name": "ipython",
    "version": 3
   },
   "file_extension": ".py",
   "mimetype": "text/x-python",
   "name": "python",
   "nbconvert_exporter": "python",
   "pygments_lexer": "ipython3",
   "version": "3.9.12"
  },
  "vscode": {
   "interpreter": {
    "hash": "c3bf8cf9e16c16695bea1909b22be471d50760446fa7dbba6316f5f26c409e76"
   }
  }
 },
 "nbformat": 4,
 "nbformat_minor": 5
}
