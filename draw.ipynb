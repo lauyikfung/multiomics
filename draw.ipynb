{
 "cells": [
  {
   "cell_type": "code",
   "execution_count": null,
   "metadata": {},
   "outputs": [],
   "source": [
    "from neo4j import GraphDatabase\n",
    "from py2neo import Node, Relationship, Path\n",
    "import pandas as pd\n",
    "import networkx as nx\n",
    "from py2neo import Graph as pGraph\n",
    "import py2neo\n",
    "from matplotlib import pyplot as plt\n",
    "from igraph import Graph as iGraph\n",
    "import igraph\n",
    "import networkx as nx\n",
    "\n",
    "# The plotted graph can be directly saving as \".svg\" file, but the shape is not so satisfying,\n",
    "# so you run this file to get a more beautiful graph using jupyter and just download the graph\n",
    "# with it. \n",
    "# Attention: you may need to update your jupyter version.\n",
    "\n",
    "YOUR_FILE_NAME = \".graphml\" # end with .graphml\n",
    "g = igraph.load(YOUR_FILE_NAME)\n",
    "visual_style = {\n",
    "    # \"vertex_size\" : 5,\n",
    "    \"bbox\": (2000,2000),\n",
    "    \"margin\": 60,\n",
    "    \"layout\": \"kk\",#fr, kk\n",
    "    # \"arrow_size\": 1,\n",
    "    \"edge_width\": 0.3\n",
    "}\n",
    "\n",
    "\n",
    "g.es['arrow_size'] = [0.5 for i in g.es['type_']]\n",
    "e_col = {'expression':\"green\", 'gene_expression':\"green\", 'repression':\"red\", \n",
    "'activation':\"green\", 'inhibition':\"red\", 'substrate':\"blue\", 'product':\"magenta\", 'enzyme':\"pink\",\"phosphorylation\":\"grey\",\n",
    "'indirect effect':\"grey\",'binding/association':\"grey\", \"in_module\":\"orange\", 'in_pathway':\"grey\"}\n",
    "g.es['color'] = [e_col[i] for i in g.es['type_']]\n",
    "g.es['label'] = [i for i in g.es['type_']]\n",
    "g.es['label_color'] = [e_col[i] for i in g.es['type_']]\n",
    "g.es[\"label_size\"] = [6 for i in g.es[\"type_\"]]\n",
    "igraph.plot(g,'TEST.png', **visual_style)"
   ]
  }
 ],
 "metadata": {
  "language_info": {
   "name": "python"
  },
  "orig_nbformat": 4
 },
 "nbformat": 4,
 "nbformat_minor": 2
}
